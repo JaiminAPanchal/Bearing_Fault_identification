{
  "nbformat": 4,
  "nbformat_minor": 0,
  "metadata": {
    "colab": {
      "name": "Data Augmentation.ipynb",
      "provenance": [],
      "collapsed_sections": []
    },
    "kernelspec": {
      "name": "python3",
      "display_name": "Python 3"
    }
  },
  "cells": [
    {
      "cell_type": "code",
      "metadata": {
        "id": "CIvZr0TJl8na"
      },
      "source": [
        "import os\n",
        "import numpy as np\n",
        "from skimage import io\n",
        "from scipy import ndimage\n",
        "import glob as gb\n",
        "import matplotlib.pyplot as plt\n",
        "import matplotlib.image as mpimg\n",
        "from numpy import expand_dims"
      ],
      "execution_count": null,
      "outputs": []
    },
    {
      "cell_type": "code",
      "metadata": {
        "id": "-qNnKH_5m5dE"
      },
      "source": [
        "os.chdir('/content/drive/MyDrive/Dissertation/MFS/MFS 25/14 Samples/BALL_MAT/28 x 28/')"
      ],
      "execution_count": null,
      "outputs": []
    },
    {
      "cell_type": "code",
      "metadata": {
        "id": "MAm-Ozxqnl-C"
      },
      "source": [
        "a = gb.glob('/content/drive/MyDrive/Dissertation/MFS/MFS 25/14 Samples/BALL_MAT/28 x 28/*.png')"
      ],
      "execution_count": null,
      "outputs": []
    },
    {
      "cell_type": "code",
      "metadata": {
        "colab": {
          "base_uri": "https://localhost:8080/"
        },
        "id": "51gzSEZaBs_6",
        "outputId": "d6b09360-2624-4a0e-cef8-e8412ea6e987"
      },
      "source": [
        "len(a) # total images in the directory"
      ],
      "execution_count": null,
      "outputs": [
        {
          "output_type": "execute_result",
          "data": {
            "text/plain": [
              "224"
            ]
          },
          "metadata": {
            "tags": []
          },
          "execution_count": 37
        }
      ]
    },
    {
      "cell_type": "code",
      "metadata": {
        "id": "xUZ4XqiPl4KE",
        "colab": {
          "base_uri": "https://localhost:8080/",
          "height": 120
        },
        "outputId": "2022ee23-4aea-4090-c03c-262ee5be9d12"
      },
      "source": [
        "#Several Geometrical Augmentations, you can use to generate ample amount of images, just uncomment them\n",
        "#flipping lr\n",
        "a = gb.glob('/content/drive/MyDrive/Dissertation/MFS/MFS 25/14 Samples/BALL_MAT/28 x 28/*.png')\n",
        "j = len(a)\n",
        "k = 0\n",
        "\n",
        "for i in a:\n",
        "    I = io.imread(i,as_gray = False)\n",
        "    If = np.fliplr(I)\n",
        "    io.imsave('P0' + str(j+k) + '.png',If)\n",
        "    k+=1\n",
        "\n",
        "a = gb.glob('/content/drive/MyDrive/Dissertation/MFS/MFS 25/14 Samples/BALL_MAT/28 x 28/*.png')\n",
        "j = len(a)\n",
        "\n",
        "#flipping ud\n",
        "for r in a:\n",
        "    I = io.imread(r,as_gray = False)\n",
        "    If = np.flipud(I)\n",
        " #   if r < (100):  \n",
        "    io.imsave('Q0' + str(j+k) + '.png',If)\n",
        " #   else:\n",
        " #       io.imsave('u0' + str(j+k-56) + '.png',If)\n",
        "    k+=1\n",
        "\n",
        "#rotate 90\n",
        "a = gb.glob('/content/drive/MyDrive/Dissertation/MFS/MFS 25/14 Samples/BALL_MAT/28 x 28/*.png')\n",
        "j = len(a)\n",
        "\n",
        "\n",
        "for i in a:\n",
        "    I = io.imread(i,as_gray = False)\n",
        "    If = ndimage.rotate(I, 7, reshape=False, mode = 'reflect')\n",
        "    io.imsave('R0' + str(j+k) + '.png',If)\n",
        "    k+=1\n",
        "\n",
        "#angle 5    \n",
        "a = gb.glob('/content/drive/MyDrive/Dissertation/MFS/MFS 25/14 Samples/BALL_MAT/28 x 28/*.png')\n",
        "j = len(a)\n",
        "\n",
        "for i in a:\n",
        "    I = io.imread(i,as_gray = False)\n",
        "    If = ndimage.rotate(I, 2.5, reshape=False, mode = 'reflect')\n",
        "    io.imsave('S25' + str(j+k) + '.png',If)\n",
        "    k+=1\n",
        "'''\n",
        "#angle -5    \n",
        "a = gb.glob('/content/drive/MyDrive/Dissertation/MFS/MFS 25/14 Samples/OUTER_MAT/28 x 28/*.png')\n",
        "j = len(a)\n",
        "\n",
        "for r in a:\n",
        "    I = io.imread(r,as_gray = False)\n",
        "    If = ndimage.rotate(I, -2.5, reshape=False, mode = 'reflect')\n",
        "    io.imsave('T-25' + str(j+k) + '.png',If)\n",
        "    k+=1\n",
        " \n",
        "#angle -5    \n",
        "a = gb.glob('/content/drive/MyDrive/Dissertation/MFS/MFS 25/14 Samples/INNER_MAT/28 x 28/*.png')\n",
        "j = len(a)\n",
        "\n",
        "for r in a:\n",
        "    I = io.imread(r,as_gray = False)\n",
        "    If = ndimage.rotate(I, -15, reshape=False, mode = 'reflect')\n",
        "    io.imsave('U-15' + str(j+k) + '.png',If)\n",
        "    k+=1\n",
        "\n",
        "#angle -5    \n",
        "a = gb.glob('/content/drive/MyDrive/Dissertation/MFS/MFS 25/14 Samples/INNER_MAT/28 x 28/*.png')\n",
        "j = len(a)\n",
        "\n",
        "for r in a:\n",
        "    I = io.imread(r,as_gray = False)\n",
        "    If = ndimage.rotate(I, 15, reshape=False, mode = 'reflect')\n",
        "    io.imsave('V15' + str(j+k) + '.png',If)\n",
        "    k+=1'''\n"
      ],
      "execution_count": null,
      "outputs": [
        {
          "output_type": "execute_result",
          "data": {
            "application/vnd.google.colaboratory.intrinsic+json": {
              "type": "string"
            },
            "text/plain": [
              "\"\\n#angle -5    \\na = gb.glob('/content/drive/MyDrive/Dissertation/MFS/MFS 25/14 Samples/OUTER_MAT/28 x 28/*.png')\\nj = len(a)\\n\\nfor r in a:\\n    I = io.imread(r,as_gray = False)\\n    If = ndimage.rotate(I, -2.5, reshape=False, mode = 'reflect')\\n    io.imsave('T-25' + str(j+k) + '.png',If)\\n    k+=1\\n \\n#angle -5    \\na = gb.glob('/content/drive/MyDrive/Dissertation/MFS/MFS 25/14 Samples/INNER_MAT/28 x 28/*.png')\\nj = len(a)\\n\\nfor r in a:\\n    I = io.imread(r,as_gray = False)\\n    If = ndimage.rotate(I, -15, reshape=False, mode = 'reflect')\\n    io.imsave('U-15' + str(j+k) + '.png',If)\\n    k+=1\\n\\n#angle -5    \\na = gb.glob('/content/drive/MyDrive/Dissertation/MFS/MFS 25/14 Samples/INNER_MAT/28 x 28/*.png')\\nj = len(a)\\n\\nfor r in a:\\n    I = io.imread(r,as_gray = False)\\n    If = ndimage.rotate(I, 15, reshape=False, mode = 'reflect')\\n    io.imsave('V15' + str(j+k) + '.png',If)\\n    k+=1\""
            ]
          },
          "metadata": {
            "tags": []
          },
          "execution_count": 35
        }
      ]
    }
  ]
}