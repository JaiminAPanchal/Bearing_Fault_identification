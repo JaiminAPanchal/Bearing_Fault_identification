{
  "nbformat": 4,
  "nbformat_minor": 0,
  "metadata": {
    "colab": {
      "name": "Copy of CNN-Feature extractor to ML models.ipynb",
      "provenance": [],
      "collapsed_sections": []
    },
    "kernelspec": {
      "display_name": "Python 3",
      "name": "python3"
    }
  },
  "cells": [
    {
      "cell_type": "code",
      "metadata": {
        "id": "GwPAYCzaszu8"
      },
      "source": [
        "import numpy as np \n",
        "import matplotlib.pyplot as plt\n",
        "import glob\n",
        "import cv2\n",
        "\n",
        "from keras.models import Model, Sequential\n",
        "from keras.layers import Dense, Flatten, Conv2D, MaxPooling2D, Dropout\n",
        "from keras.layers.normalization import BatchNormalization\n",
        "import os\n",
        "import seaborn as sns\n",
        "from sklearn.model_selection import KFold\n",
        "import glob as gb\n",
        "from skimage import io"
      ],
      "execution_count": null,
      "outputs": []
    },
    {
      "cell_type": "code",
      "metadata": {
        "id": "PxQpqMOCs7Oz"
      },
      "source": [
        "os.chdir('/content/drive/MyDrive/Dissertation/MFS/MFS 25/14 Samples/ORIGINAL MFS S-TRANSFROM IMAGES/')"
      ],
      "execution_count": null,
      "outputs": []
    },
    {
      "cell_type": "code",
      "metadata": {
        "id": "5rxxPPl-1B9Q"
      },
      "source": [
        "seed = 7\n",
        "np.random.seed(seed)"
      ],
      "execution_count": null,
      "outputs": []
    },
    {
      "cell_type": "code",
      "metadata": {
        "id": "yLtz30gczrq-"
      },
      "source": [
        "SIZE = 28 # image size"
      ],
      "execution_count": null,
      "outputs": []
    },
    {
      "cell_type": "code",
      "metadata": {
        "id": "GvYSKucFs540",
        "colab": {
          "base_uri": "https://localhost:8080/"
        },
        "outputId": "e658eb8c-97f2-45f4-fb56-fe9514455898"
      },
      "source": [
        "# original images\n",
        "train_images = []\n",
        "train_labels = [] \n",
        "for directory_path in sorted(glob.glob(\"/content/drive/MyDrive/Dissertation/MFS/MFS 25/14 Samples/ORIGINAL MFS S-TRANSFROM IMAGES/160 Images/*\")):\n",
        "    label = directory_path.split(\"/\")[-1]\n",
        "    print(label)\n",
        "    for img_path in glob.glob(os.path.join(directory_path, \"*.png\")):\n",
        "        #print(img_path)\n",
        "        img = cv2.imread(img_path, cv2.IMREAD_COLOR)       \n",
        "        img = cv2.resize(img, (SIZE, SIZE))\n",
        "        img = cv2.cvtColor(img, cv2.COLOR_RGB2BGR)\n",
        "        train_images.append(img)\n",
        "        train_labels.append(label)\n",
        "        \n",
        "train_images = np.array(train_images)\n",
        "train_labels = np.array(train_labels)"
      ],
      "execution_count": null,
      "outputs": [
        {
          "output_type": "stream",
          "text": [
            "BALL\n",
            "HEALTHY\n",
            "INNER\n",
            "OUTER\n"
          ],
          "name": "stdout"
        }
      ]
    },
    {
      "cell_type": "code",
      "metadata": {
        "colab": {
          "base_uri": "https://localhost:8080/"
        },
        "id": "3oouBXqMs9Kh",
        "outputId": "ba217eb1-c01d-46e9-c78d-4101ea29d0ac"
      },
      "source": [
        "# GAN images\n",
        "test_images = []\n",
        "test_labels = [] \n",
        "for directory_path in sorted(glob.glob(\"/content/drive/MyDrive/Dissertation/MFS/MFS 25/14 Samples/ORIGINAL MFS S-TRANSFROM IMAGES/GAN/*\")):\n",
        "    fruit_label = directory_path.split(\"/\")[-1]\n",
        "    print(fruit_label)\n",
        "    for img_path in glob.glob(os.path.join(directory_path, \"*.png\")):\n",
        "        img = cv2.imread(img_path, cv2.IMREAD_COLOR)\n",
        "        img = cv2.resize(img, (SIZE, SIZE))\n",
        "        img = cv2.cvtColor(img, cv2.COLOR_RGB2BGR)\n",
        "        test_images.append(img)\n",
        "        test_labels.append(fruit_label)\n",
        "test_images = np.array(test_images)\n",
        "test_labels = np.array(test_labels)"
      ],
      "execution_count": null,
      "outputs": [
        {
          "output_type": "stream",
          "text": [
            "BALLGAN\n",
            "HEALTHYGAN\n",
            "INNERGAN\n",
            "OUTERGAN\n"
          ],
          "name": "stdout"
        }
      ]
    },
    {
      "cell_type": "code",
      "metadata": {
        "id": "IMnhO52EptGE",
        "colab": {
          "base_uri": "https://localhost:8080/",
          "height": 35
        },
        "outputId": "852f9f9a-9472-4cb2-f3fd-bc31de7e8b42"
      },
      "source": [
        "'''# Merge inputs and targets\n",
        "inputs = np.concatenate((train_images, test_images), axis=0)\n",
        "targets = np.concatenate((train_labels, test_labels), axis=0)'''"
      ],
      "execution_count": null,
      "outputs": [
        {
          "output_type": "execute_result",
          "data": {
            "application/vnd.google.colaboratory.intrinsic+json": {
              "type": "string"
            },
            "text/plain": [
              "'# Merge inputs and targets\\ninputs = np.concatenate((train_images, test_images), axis=0)\\ntargets = np.concatenate((train_labels, test_labels), axis=0)'"
            ]
          },
          "metadata": {
            "tags": []
          },
          "execution_count": 7
        }
      ]
    },
    {
      "cell_type": "code",
      "metadata": {
        "id": "bD_sOa7utCOz"
      },
      "source": [
        "#Encode labels from text to integers.\n",
        "from sklearn import preprocessing\n",
        "le = preprocessing.LabelEncoder()\n",
        "le.fit(test_labels)\n",
        "test_labels_encoded = le.transform(test_labels)\n",
        "le.fit(train_labels)\n",
        "train_labels_encoded = le.transform(train_labels)"
      ],
      "execution_count": null,
      "outputs": []
    },
    {
      "cell_type": "code",
      "metadata": {
        "colab": {
          "base_uri": "https://localhost:8080/"
        },
        "id": "Ru7CGhSGQy_m",
        "outputId": "6f572a02-a5b7-41a3-b210-cf99b012b4d0"
      },
      "source": [
        "train_images.shape"
      ],
      "execution_count": null,
      "outputs": [
        {
          "output_type": "execute_result",
          "data": {
            "text/plain": [
              "(640, 28, 28, 3)"
            ]
          },
          "metadata": {
            "tags": []
          },
          "execution_count": 9
        }
      ]
    },
    {
      "cell_type": "code",
      "metadata": {
        "id": "rlhzg_09qH6G"
      },
      "source": [
        "x_train = []\n",
        "y_train = []\n",
        "x_test = []\n",
        "y_test = []\n",
        "y_train_one_hot = []\n",
        "y_test_one_hot = []"
      ],
      "execution_count": null,
      "outputs": []
    },
    {
      "cell_type": "code",
      "metadata": {
        "id": "GpXIPuNduLzz"
      },
      "source": [
        "#Split data into test and train datasets (already split but assigning to meaningful convention)\n",
        "x_train, y_train, x_test, y_test = train_images, train_labels_encoded, test_images, test_labels_encoded"
      ],
      "execution_count": null,
      "outputs": []
    },
    {
      "cell_type": "code",
      "metadata": {
        "id": "vjtSccrutE-F"
      },
      "source": [
        "###################################################################\n",
        "# Normalize pixel values to between 0 and 1\n",
        "x_train, x_test = x_train / 255.0, x_test / 255.0\n",
        "#x_train = x_train / 255.0\n",
        "#One hot encode y values for neural network. \n",
        "from keras.utils import to_categorical\n",
        "y_train_one_hot = to_categorical(y_train)\n",
        "y_test_one_hot = to_categorical(y_test)"
      ],
      "execution_count": null,
      "outputs": []
    },
    {
      "cell_type": "code",
      "metadata": {
        "id": "O38QIfEHoA-Z"
      },
      "source": [
        "#############################\n",
        "# K-fold Cross Validation model evaluation\n",
        "\n",
        "#for train, test in kfold.split(x_train, y_train_one_hot):\n",
        "model = Sequential()\n",
        "\n",
        "model.add(Conv2D(28, (3, 3), input_shape=(SIZE, SIZE, 3), padding= 'same' ,activation= 'relu' ))\n",
        "model.add(Dropout(0.2))\n",
        "model.add(MaxPooling2D((2, 2)))\n",
        "\n",
        "model.add(Conv2D(28, (3, 3), activation='relu', padding='same'))\n",
        "model.add(MaxPooling2D((2, 2)))\n",
        "\n",
        "model.add(Conv2D(28, (3, 3), activation='relu',padding='same'))\n",
        "model.add(Flatten())\n",
        "\n",
        "models = model.output\n",
        "models = Dense(512, activation='relu')(models)\n",
        "models = Dense(4, activation='softmax') (models)\n",
        "mo = models\n",
        "\n",
        "cnn_model = Model(inputs=model.input, outputs=mo)\n",
        "cnn_model.compile(optimizer='rmsprop',loss = 'categorical_crossentropy', metrics = ['accuracy'])\n",
        "print(cnn_model.summary()) \n",
        "\n",
        "##########################################\n",
        "#Train the CNN model\n",
        "history = cnn_model.fit(x_test, y_test_one_hot, batch_size=128, epochs=100, validation_data=(x_test, y_test_one_hot))\n",
        "\n",
        "\n",
        "scores = cnn_model.evaluate(x_test, y_test_one_hot, verbose=2)\n",
        "print('loss is %6f and acc is %4f'%((scores[0]),(scores[1]*100)))"
      ],
      "execution_count": null,
      "outputs": []
    },
    {
      "cell_type": "code",
      "metadata": {
        "colab": {
          "base_uri": "https://localhost:8080/",
          "height": 69
        },
        "id": "IeHxLE-3tQM7",
        "outputId": "9f055aa8-0f01-4560-f601-05b9632fa7f7"
      },
      "source": [
        "'''#plot the training and validation accuracy and loss at each epoch\n",
        "loss = history.history['loss']\n",
        "val_loss = history.history['val_loss']\n",
        "epochs = range(1, len(loss) + 1)\n",
        "plt.plot(epochs, loss, 'y', label='Training loss')\n",
        "plt.plot(epochs, val_loss, 'r', label='Validation loss')\n",
        "plt.title('Training and validation loss')\n",
        "plt.xlabel('Epochs')\n",
        "plt.ylabel('Loss')\n",
        "plt.legend()\n",
        "plt.show()'''"
      ],
      "execution_count": null,
      "outputs": [
        {
          "output_type": "execute_result",
          "data": {
            "application/vnd.google.colaboratory.intrinsic+json": {
              "type": "string"
            },
            "text/plain": [
              "\"#plot the training and validation accuracy and loss at each epoch\\nloss = history.history['loss']\\nval_loss = history.history['val_loss']\\nepochs = range(1, len(loss) + 1)\\nplt.plot(epochs, loss, 'y', label='Training loss')\\nplt.plot(epochs, val_loss, 'r', label='Validation loss')\\nplt.title('Training and validation loss')\\nplt.xlabel('Epochs')\\nplt.ylabel('Loss')\\nplt.legend()\\nplt.show()\""
            ]
          },
          "metadata": {
            "tags": []
          },
          "execution_count": 17
        }
      ]
    },
    {
      "cell_type": "code",
      "metadata": {
        "colab": {
          "base_uri": "https://localhost:8080/",
          "height": 52
        },
        "id": "Ecje-XoHtVzs",
        "outputId": "96045bf3-0a09-43df-fa36-597bc766ab21"
      },
      "source": [
        "'''acc = history.history['accuracy']\n",
        "val_acc = history.history['val_accuracy']\n",
        "plt.plot(epochs, acc, 'y', label='Training acc')\n",
        "plt.plot(epochs, val_acc, 'r', label='Validation acc')\n",
        "plt.title('Training and validation accuracy')\n",
        "plt.xlabel('Epochs')\n",
        "plt.ylabel('Accuracy')\n",
        "plt.legend()\n",
        "plt.show()'''"
      ],
      "execution_count": null,
      "outputs": [
        {
          "output_type": "execute_result",
          "data": {
            "application/vnd.google.colaboratory.intrinsic+json": {
              "type": "string"
            },
            "text/plain": [
              "\"acc = history.history['accuracy']\\nval_acc = history.history['val_accuracy']\\nplt.plot(epochs, acc, 'y', label='Training acc')\\nplt.plot(epochs, val_acc, 'r', label='Validation acc')\\nplt.title('Training and validation accuracy')\\nplt.xlabel('Epochs')\\nplt.ylabel('Accuracy')\\nplt.legend()\\nplt.show()\""
            ]
          },
          "metadata": {
            "tags": []
          },
          "execution_count": 18
        }
      ]
    },
    {
      "cell_type": "code",
      "metadata": {
        "id": "DhoUksvntgJG"
      },
      "source": [
        "################################\n",
        "#Now, let us use features from convolutional network for RF\n",
        "#X_for_RF = feature_extractor.predict(x_train)\n",
        "X_for_RF = model.predict(x_test) #This is out X input to RF 5488 feature columns\n",
        "X1 = X_for_RF\n",
        "Y = y_test   "
      ],
      "execution_count": null,
      "outputs": []
    },
    {
      "cell_type": "code",
      "metadata": {
        "colab": {
          "base_uri": "https://localhost:8080/"
        },
        "id": "E161OZLfoCVY",
        "outputId": "2d60480e-ef2e-42a8-fa32-0c30d815a7c5"
      },
      "source": [
        "X_for_RF.shape"
      ],
      "execution_count": null,
      "outputs": [
        {
          "output_type": "execute_result",
          "data": {
            "text/plain": [
              "(640, 1372)"
            ]
          },
          "metadata": {
            "tags": []
          },
          "execution_count": 20
        }
      ]
    },
    {
      "cell_type": "code",
      "metadata": {
        "id": "rlo-zuCzDg55"
      },
      "source": [
        "seed = 7 #recreating the results next time "
      ],
      "execution_count": null,
      "outputs": []
    },
    {
      "cell_type": "markdown",
      "metadata": {
        "id": "EPXSNvhJVl_K"
      },
      "source": [
        "#now features are extracted so ML models are used to find cross validation accuracies"
      ]
    },
    {
      "cell_type": "code",
      "metadata": {
        "id": "eYs6QuOpV7Xm"
      },
      "source": [
        "from sklearn import svm, metrics, neighbors, neural_network, ensemble\n",
        "from sklearn.model_selection import cross_val_score, cross_validate, cross_val_predict, GridSearchCV\n",
        "from sklearn.metrics import confusion_matrix"
      ],
      "execution_count": null,
      "outputs": []
    },
    {
      "cell_type": "markdown",
      "metadata": {
        "id": "OBB52owZVubc"
      },
      "source": [
        "#SVM"
      ]
    },
    {
      "cell_type": "code",
      "metadata": {
        "id": "v2QZPJFcVtUq"
      },
      "source": [
        "param_grid_svm = [\n",
        "  {'C': [1, 10, 100, 1000], 'kernel': ['linear']},\n",
        "  {'C': [1, 10, 100, 1000], 'gamma': [0.001, 0.0001], 'kernel': ['rbf']},\n",
        " ]"
      ],
      "execution_count": null,
      "outputs": []
    },
    {
      "cell_type": "code",
      "metadata": {
        "id": "YTOESDqAVxDD"
      },
      "source": [
        "modelsvm = svm.SVC(random_state=seed)\n",
        "clf = GridSearchCV(modelsvm, param_grid_svm)\n",
        "scoressvm = cross_validate(clf, X1, Y, cv=10,verbose = 2, return_estimator=True, return_train_score=True , n_jobs=-1)\n",
        "print(scoressvm['train_score'].mean())\n",
        "print(scoressvm['test_score'].mean())"
      ],
      "execution_count": null,
      "outputs": []
    },
    {
      "cell_type": "code",
      "metadata": {
        "colab": {
          "base_uri": "https://localhost:8080/"
        },
        "id": "oLznJUyeVxqi",
        "outputId": "9f4c6598-223d-48d1-cff1-45435b77bc07"
      },
      "source": [
        "y_pred_s = cross_val_predict(modelsvm,X1,Y,verbose=2, cv = 10)"
      ],
      "execution_count": null,
      "outputs": [
        {
          "output_type": "stream",
          "text": [
            "[Parallel(n_jobs=1)]: Using backend SequentialBackend with 1 concurrent workers.\n",
            "[Parallel(n_jobs=1)]: Done   1 out of   1 | elapsed:    0.3s remaining:    0.0s\n",
            "[Parallel(n_jobs=1)]: Done  10 out of  10 | elapsed:    3.4s finished\n"
          ],
          "name": "stderr"
        }
      ]
    },
    {
      "cell_type": "code",
      "metadata": {
        "colab": {
          "base_uri": "https://localhost:8080/"
        },
        "id": "mD9OezDLVz8q",
        "outputId": "6dc758c4-de3d-4452-dacd-37610be2a1ca"
      },
      "source": [
        "print(metrics.classification_report(Y,y_pred_s,digits=4))"
      ],
      "execution_count": null,
      "outputs": [
        {
          "output_type": "stream",
          "text": [
            "              precision    recall  f1-score   support\n",
            "\n",
            "           0     0.9873    0.9750    0.9811       160\n",
            "           1     1.0000    1.0000    1.0000       160\n",
            "           2     0.9756    1.0000    0.9877       160\n",
            "           3     1.0000    0.9875    0.9937       160\n",
            "\n",
            "    accuracy                         0.9906       640\n",
            "   macro avg     0.9907    0.9906    0.9906       640\n",
            "weighted avg     0.9907    0.9906    0.9906       640\n",
            "\n"
          ],
          "name": "stdout"
        }
      ]
    },
    {
      "cell_type": "code",
      "metadata": {
        "colab": {
          "base_uri": "https://localhost:8080/"
        },
        "id": "XLbvLhTuV2Hi",
        "outputId": "64fee972-9654-4289-ed61-02d8c8d32e04"
      },
      "source": [
        "print(confusion_matrix(Y, y_pred_s))  "
      ],
      "execution_count": null,
      "outputs": [
        {
          "output_type": "stream",
          "text": [
            "[[156   0   4   0]\n",
            " [  0 160   0   0]\n",
            " [  0   0 160   0]\n",
            " [  2   0   0 158]]\n"
          ],
          "name": "stdout"
        }
      ]
    },
    {
      "cell_type": "markdown",
      "metadata": {
        "id": "CTvTCx1Wfb5q"
      },
      "source": [
        "#KNN"
      ]
    },
    {
      "cell_type": "code",
      "metadata": {
        "id": "PcEhV4GpfeO1"
      },
      "source": [
        "param_grid_knn = [\n",
        "              {'n_neighbors' : [5, 7, 10], 'weights' :['uniform', 'distance'], 'algorithm' : ['ball_tree']},\n",
        "              {'n_neighbors' : [5, 7, 10], 'weights' :['uniform', 'distance'], 'algorithm' : ['kd_tree']},\n",
        "              {'n_neighbors' : [5, 7, 10], 'weights' :['uniform', 'distance'], 'algorithm' : ['brute']}\n",
        "               ]"
      ],
      "execution_count": null,
      "outputs": []
    },
    {
      "cell_type": "code",
      "metadata": {
        "colab": {
          "base_uri": "https://localhost:8080/"
        },
        "id": "n5vQW_QLfioM",
        "outputId": "079ea71c-76b6-4251-c606-e8acf8e9de5e"
      },
      "source": [
        "model_knn = neighbors.KNeighborsClassifier()\n",
        "knn = GridSearchCV(model_knn,param_grid_knn)\n",
        "scoresknn = cross_validate(knn, X1, Y, cv=10, return_estimator=True, return_train_score=True ,verbose = 2, n_jobs=-1)\n",
        "print(scoresknn['train_score'].mean())\n",
        "print(scoresknn['test_score'].mean())"
      ],
      "execution_count": null,
      "outputs": [
        {
          "output_type": "stream",
          "text": [
            "[Parallel(n_jobs=-1)]: Using backend LokyBackend with 2 concurrent workers.\n"
          ],
          "name": "stderr"
        },
        {
          "output_type": "stream",
          "text": [
            "0.9993055555555556\n",
            "0.9921875\n"
          ],
          "name": "stdout"
        },
        {
          "output_type": "stream",
          "text": [
            "[Parallel(n_jobs=-1)]: Done  10 out of  10 | elapsed:    4.8s finished\n"
          ],
          "name": "stderr"
        }
      ]
    },
    {
      "cell_type": "code",
      "metadata": {
        "colab": {
          "base_uri": "https://localhost:8080/"
        },
        "id": "aOp1Ie5YfkXH",
        "outputId": "063dd957-9e72-4ccd-be33-fcbf7c79574b"
      },
      "source": [
        "y_pred = cross_val_predict(model_knn,X1,Y,verbose=2, cv = 10)"
      ],
      "execution_count": null,
      "outputs": [
        {
          "output_type": "stream",
          "text": [
            "[Parallel(n_jobs=1)]: Using backend SequentialBackend with 1 concurrent workers.\n",
            "[Parallel(n_jobs=1)]: Done   1 out of   1 | elapsed:    0.1s remaining:    0.0s\n",
            "[Parallel(n_jobs=1)]: Done  10 out of  10 | elapsed:    1.2s finished\n"
          ],
          "name": "stderr"
        }
      ]
    },
    {
      "cell_type": "code",
      "metadata": {
        "colab": {
          "base_uri": "https://localhost:8080/"
        },
        "id": "4CTK0NFeflpo",
        "outputId": "3997cb14-4488-47f7-b319-1dfc49393fcf"
      },
      "source": [
        "print(metrics.classification_report(Y,y_pred,digits=4))"
      ],
      "execution_count": null,
      "outputs": [
        {
          "output_type": "stream",
          "text": [
            "              precision    recall  f1-score   support\n",
            "\n",
            "           0     0.9877    1.0000    0.9938       160\n",
            "           1     0.9937    0.9875    0.9906       160\n",
            "           2     0.9877    1.0000    0.9938       160\n",
            "           3     1.0000    0.9812    0.9905       160\n",
            "\n",
            "    accuracy                         0.9922       640\n",
            "   macro avg     0.9923    0.9922    0.9922       640\n",
            "weighted avg     0.9923    0.9922    0.9922       640\n",
            "\n"
          ],
          "name": "stdout"
        }
      ]
    },
    {
      "cell_type": "code",
      "metadata": {
        "colab": {
          "base_uri": "https://localhost:8080/"
        },
        "id": "Tiq6T0FTfoSU",
        "outputId": "46200ac1-540d-41d6-a2c1-4b5607a3f84c"
      },
      "source": [
        "print(confusion_matrix(Y, y_pred))  "
      ],
      "execution_count": null,
      "outputs": [
        {
          "output_type": "stream",
          "text": [
            "[[160   0   0   0]\n",
            " [  0 158   2   0]\n",
            " [  0   0 160   0]\n",
            " [  2   1   0 157]]\n"
          ],
          "name": "stdout"
        }
      ]
    },
    {
      "cell_type": "markdown",
      "metadata": {
        "id": "1C86nPhFfrKp"
      },
      "source": [
        "#RF"
      ]
    },
    {
      "cell_type": "code",
      "metadata": {
        "colab": {
          "base_uri": "https://localhost:8080/"
        },
        "id": "mJVnhmP4fu-b",
        "outputId": "c08a80f7-2fc0-465f-c5a2-24e2e8fd12a3"
      },
      "source": [
        "modelrfc = ensemble.RandomForestClassifier(n_jobs=-1, random_state=seed)\n",
        "rfc = GridSearchCV(modelrfc,param_grid_rfc)\n",
        "scoresrfc = cross_validate(rfc, X1, Y, cv=10,verbose = 2, return_estimator=True, return_train_score=True , n_jobs=-1)\n",
        "print(scoresrfc['train_score'].mean())\n",
        "print(scoresrfc['test_score'].mean())"
      ],
      "execution_count": null,
      "outputs": [
        {
          "output_type": "stream",
          "text": [
            "[Parallel(n_jobs=-1)]: Using backend LokyBackend with 2 concurrent workers.\n"
          ],
          "name": "stderr"
        },
        {
          "output_type": "stream",
          "text": [
            "1.0\n",
            "0.9984375\n"
          ],
          "name": "stdout"
        },
        {
          "output_type": "stream",
          "text": [
            "[Parallel(n_jobs=-1)]: Done  10 out of  10 | elapsed:    6.8s finished\n"
          ],
          "name": "stderr"
        }
      ]
    },
    {
      "cell_type": "code",
      "metadata": {
        "colab": {
          "base_uri": "https://localhost:8080/"
        },
        "id": "Tjn0-Lbuf1Wo",
        "outputId": "8055bd21-7c04-42b1-85aa-c50b8ab9d6c9"
      },
      "source": [
        "y_pred_r = cross_val_predict(modelrfc,X1,Y,verbose=2, cv = 10)"
      ],
      "execution_count": null,
      "outputs": [
        {
          "output_type": "stream",
          "text": [
            "[Parallel(n_jobs=1)]: Using backend SequentialBackend with 1 concurrent workers.\n",
            "[Parallel(n_jobs=1)]: Done   1 out of   1 | elapsed:    0.8s remaining:    0.0s\n",
            "[Parallel(n_jobs=1)]: Done  10 out of  10 | elapsed:    8.5s finished\n"
          ],
          "name": "stderr"
        }
      ]
    },
    {
      "cell_type": "code",
      "metadata": {
        "colab": {
          "base_uri": "https://localhost:8080/"
        },
        "id": "FtUd1OXQf1wV",
        "outputId": "1811a275-988b-4234-8dae-6876c8b2ab21"
      },
      "source": [
        "print(metrics.classification_report(Y,y_pred_r,digits=4))"
      ],
      "execution_count": null,
      "outputs": [
        {
          "output_type": "stream",
          "text": [
            "              precision    recall  f1-score   support\n",
            "\n",
            "           0     1.0000    1.0000    1.0000       160\n",
            "           1     1.0000    0.9938    0.9969       160\n",
            "           2     1.0000    1.0000    1.0000       160\n",
            "           3     0.9938    1.0000    0.9969       160\n",
            "\n",
            "    accuracy                         0.9984       640\n",
            "   macro avg     0.9984    0.9984    0.9984       640\n",
            "weighted avg     0.9984    0.9984    0.9984       640\n",
            "\n"
          ],
          "name": "stdout"
        }
      ]
    },
    {
      "cell_type": "code",
      "metadata": {
        "colab": {
          "base_uri": "https://localhost:8080/"
        },
        "id": "nxDe6aJmf3Ke",
        "outputId": "b27e3afc-72f5-4883-b3f9-895cbd511007"
      },
      "source": [
        "print(confusion_matrix(Y, y_pred_r))"
      ],
      "execution_count": null,
      "outputs": [
        {
          "output_type": "stream",
          "text": [
            "[[160   0   0   0]\n",
            " [  0 159   0   1]\n",
            " [  0   0 160   0]\n",
            " [  0   0   0 160]]\n"
          ],
          "name": "stdout"
        }
      ]
    },
    {
      "cell_type": "markdown",
      "metadata": {
        "id": "QoSzLObr_mVa"
      },
      "source": [
        "#tree"
      ]
    },
    {
      "cell_type": "code",
      "metadata": {
        "id": "Xuy9-C1L_lQH"
      },
      "source": [
        "from sklearn import tree"
      ],
      "execution_count": null,
      "outputs": []
    },
    {
      "cell_type": "code",
      "metadata": {
        "colab": {
          "base_uri": "https://localhost:8080/"
        },
        "id": "8qcm9TNb_sb6",
        "outputId": "ba7068d8-5ff7-411f-8508-189dbe27bd64"
      },
      "source": [
        "modeltree = tree.DecisionTreeClassifier(random_state=seed)\n",
        "scorestree = cross_validate(modeltree, X1, Y, cv=10,verbose = 2, return_estimator=True, return_train_score=True , n_jobs=-1)\n",
        "print(scorestree['train_score'].mean())\n",
        "print(scorestree['test_score'].mean())"
      ],
      "execution_count": null,
      "outputs": [
        {
          "output_type": "stream",
          "text": [
            "[Parallel(n_jobs=-1)]: Using backend LokyBackend with 2 concurrent workers.\n"
          ],
          "name": "stderr"
        },
        {
          "output_type": "stream",
          "text": [
            "1.0\n",
            "0.9421875\n"
          ],
          "name": "stdout"
        },
        {
          "output_type": "stream",
          "text": [
            "[Parallel(n_jobs=-1)]: Done  10 out of  10 | elapsed:    1.9s finished\n"
          ],
          "name": "stderr"
        }
      ]
    },
    {
      "cell_type": "code",
      "metadata": {
        "colab": {
          "base_uri": "https://localhost:8080/"
        },
        "id": "WVDciFSQAGIK",
        "outputId": "d688ac5f-4855-44d7-92c5-a7398470293b"
      },
      "source": [
        "y_pred_t = cross_val_predict(modeltree,X1,Y,verbose=2, cv = 10)"
      ],
      "execution_count": null,
      "outputs": [
        {
          "output_type": "stream",
          "text": [
            "[Parallel(n_jobs=1)]: Using backend SequentialBackend with 1 concurrent workers.\n",
            "[Parallel(n_jobs=1)]: Done   1 out of   1 | elapsed:    0.2s remaining:    0.0s\n",
            "[Parallel(n_jobs=1)]: Done  10 out of  10 | elapsed:    2.5s finished\n"
          ],
          "name": "stderr"
        }
      ]
    },
    {
      "cell_type": "code",
      "metadata": {
        "colab": {
          "base_uri": "https://localhost:8080/"
        },
        "id": "CD4kjSXwASwQ",
        "outputId": "470fd56f-8451-4bf2-c75b-4153e2a6f240"
      },
      "source": [
        "print(metrics.classification_report(Y,y_pred_t,digits=4))"
      ],
      "execution_count": null,
      "outputs": [
        {
          "output_type": "stream",
          "text": [
            "              precision    recall  f1-score   support\n",
            "\n",
            "           0     0.9444    0.9563    0.9503       160\n",
            "           1     0.9172    0.9688    0.9422       160\n",
            "           2     0.9565    0.9625    0.9595       160\n",
            "           3     0.9527    0.8812    0.9156       160\n",
            "\n",
            "    accuracy                         0.9422       640\n",
            "   macro avg     0.9427    0.9422    0.9419       640\n",
            "weighted avg     0.9427    0.9422    0.9419       640\n",
            "\n"
          ],
          "name": "stdout"
        }
      ]
    },
    {
      "cell_type": "code",
      "metadata": {
        "colab": {
          "base_uri": "https://localhost:8080/"
        },
        "id": "qhmc2i8IAXGn",
        "outputId": "8b8ed397-faee-4c7b-b53e-374df83268ae"
      },
      "source": [
        "print(confusion_matrix(Y, y_pred_t))"
      ],
      "execution_count": null,
      "outputs": [
        {
          "output_type": "stream",
          "text": [
            "[[153   4   1   2]\n",
            " [  2 155   0   3]\n",
            " [  3   1 154   2]\n",
            " [  4   9   6 141]]\n"
          ],
          "name": "stdout"
        }
      ]
    },
    {
      "cell_type": "markdown",
      "metadata": {
        "id": "b2l0ddM-kQxM"
      },
      "source": [
        "#TSNE PLOT"
      ]
    },
    {
      "cell_type": "code",
      "metadata": {
        "id": "J4mV601zkTT2"
      },
      "source": [
        "from sklearn.manifold import TSNE"
      ],
      "execution_count": null,
      "outputs": []
    },
    {
      "cell_type": "code",
      "metadata": {
        "colab": {
          "base_uri": "https://localhost:8080/",
          "height": 466
        },
        "id": "f9RAbhA4k2Cs",
        "outputId": "aec1f3c0-d79d-4788-c5a6-f99c6b2471b6"
      },
      "source": [
        "tsne = TSNE(n_components=2, random_state=seed)\n",
        "\n",
        "X_2d = tsne.fit_transform(X_for_RF)\n",
        "\n",
        "train = ['Ball','Healthy','Inner','Outer']\n",
        "\n",
        "target_ids = range(4)\n",
        "\n",
        "from matplotlib import pyplot as plt\n",
        "plt.figure(figsize=(8, 8))\n",
        "colors = 'r', 'y', 'g', 'c'\n",
        "for i, c, label in zip(target_ids, colors, train):\n",
        "    plt.scatter(X_2d[y_train == i, 0], X_2d[y_train == i, 1], c=c, label=label)\n",
        "plt.axis('off')\n",
        "plt.legend()\n",
        "plt.show()"
      ],
      "execution_count": null,
      "outputs": [
        {
          "output_type": "display_data",
          "data": {
            "image/png": "[encoded data removed]",
            "text/plain": [
              "<Figure size 576x576 with 1 Axes>"
            ]
          },
          "metadata": {
            "tags": [],
            "needs_background": "light"
          }
        }
      ]
    },
    {
      "cell_type": "code",
      "metadata": {
        "id": "J5eaLObRy4Ym"
      },
      "source": [
        "originaltsne = X_2d"
      ],
      "execution_count": null,
      "outputs": []
    },
    {
      "cell_type": "code",
      "metadata": {
        "id": "prQzA5YV0q4J"
      },
      "source": [
        "import pandas as pd"
      ],
      "execution_count": null,
      "outputs": []
    },
    {
      "cell_type": "code",
      "metadata": {
        "id": "FhFkskrl0kwP"
      },
      "source": [
        "#exporting just in case\n",
        "csvtsne = pd.DataFrame(X_2d)\n",
        "csvtsne.to_csv('/content/drive/MyDrive/Dissertation/Case Western Reserve University Data/12k Drive End Bearing Fault Data/12KHz DE/Image 28x28/MPGAtsne.csv')"
      ],
      "execution_count": null,
      "outputs": []
    }
  ]
}